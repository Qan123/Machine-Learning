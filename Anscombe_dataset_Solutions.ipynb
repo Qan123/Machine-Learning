{
  "nbformat": 4,
  "nbformat_minor": 0,
  "metadata": {
    "colab": {
      "provenance": [],
      "authorship_tag": "ABX9TyMDKocwp+ja7Nc7wiUmJPT4",
      "include_colab_link": true
    },
    "kernelspec": {
      "name": "python3",
      "display_name": "Python 3"
    },
    "language_info": {
      "name": "python"
    }
  },
  "cells": [
    {
      "cell_type": "markdown",
      "metadata": {
        "id": "view-in-github",
        "colab_type": "text"
      },
      "source": [
        "<a href=\"https://colab.research.google.com/github/Qan123/Machine-Learning/blob/main/Anscombe_dataset_Solutions.ipynb\" target=\"_parent\"><img src=\"https://colab.research.google.com/assets/colab-badge.svg\" alt=\"Open In Colab\"/></a>"
      ]
    },
    {
      "cell_type": "markdown",
      "source": [
        "## Anscombe's Dataset\n",
        "\n",
        "Solving Anscome's dataset through 3 ways:\n",
        "1. Closed form solution\n",
        "2. By Matrix\n",
        "3. By Gradient descent"
      ],
      "metadata": {
        "id": "zAHMb9iGbjd6"
      }
    },
    {
      "cell_type": "code",
      "source": [
        "import matplotlib.pyplot as plt\n",
        "import seaborn as sns\n",
        "import numpy as np\n",
        "import pandas as pd\n",
        "df_anscombe = sns.load_dataset('anscombe')\n",
        "df_anscombe.head()"
      ],
      "metadata": {
        "colab": {
          "base_uri": "https://localhost:8080/",
          "height": 206
        },
        "id": "Sr_yfYQRbz_X",
        "outputId": "ed69fff1-1ddb-4dd8-864a-8e1c86d65581"
      },
      "execution_count": null,
      "outputs": [
        {
          "output_type": "execute_result",
          "data": {
            "text/plain": [
              "  dataset     x     y\n",
              "0       I  10.0  8.04\n",
              "1       I   8.0  6.95\n",
              "2       I  13.0  7.58\n",
              "3       I   9.0  8.81\n",
              "4       I  11.0  8.33"
            ],
            "text/html": [
              "\n",
              "  <div id=\"df-8828bca2-71fd-4db0-bf40-58ae21c628ba\">\n",
              "    <div class=\"colab-df-container\">\n",
              "      <div>\n",
              "<style scoped>\n",
              "    .dataframe tbody tr th:only-of-type {\n",
              "        vertical-align: middle;\n",
              "    }\n",
              "\n",
              "    .dataframe tbody tr th {\n",
              "        vertical-align: top;\n",
              "    }\n",
              "\n",
              "    .dataframe thead th {\n",
              "        text-align: right;\n",
              "    }\n",
              "</style>\n",
              "<table border=\"1\" class=\"dataframe\">\n",
              "  <thead>\n",
              "    <tr style=\"text-align: right;\">\n",
              "      <th></th>\n",
              "      <th>dataset</th>\n",
              "      <th>x</th>\n",
              "      <th>y</th>\n",
              "    </tr>\n",
              "  </thead>\n",
              "  <tbody>\n",
              "    <tr>\n",
              "      <th>0</th>\n",
              "      <td>I</td>\n",
              "      <td>10.0</td>\n",
              "      <td>8.04</td>\n",
              "    </tr>\n",
              "    <tr>\n",
              "      <th>1</th>\n",
              "      <td>I</td>\n",
              "      <td>8.0</td>\n",
              "      <td>6.95</td>\n",
              "    </tr>\n",
              "    <tr>\n",
              "      <th>2</th>\n",
              "      <td>I</td>\n",
              "      <td>13.0</td>\n",
              "      <td>7.58</td>\n",
              "    </tr>\n",
              "    <tr>\n",
              "      <th>3</th>\n",
              "      <td>I</td>\n",
              "      <td>9.0</td>\n",
              "      <td>8.81</td>\n",
              "    </tr>\n",
              "    <tr>\n",
              "      <th>4</th>\n",
              "      <td>I</td>\n",
              "      <td>11.0</td>\n",
              "      <td>8.33</td>\n",
              "    </tr>\n",
              "  </tbody>\n",
              "</table>\n",
              "</div>\n",
              "      <button class=\"colab-df-convert\" onclick=\"convertToInteractive('df-8828bca2-71fd-4db0-bf40-58ae21c628ba')\"\n",
              "              title=\"Convert this dataframe to an interactive table.\"\n",
              "              style=\"display:none;\">\n",
              "        \n",
              "  <svg xmlns=\"http://www.w3.org/2000/svg\" height=\"24px\"viewBox=\"0 0 24 24\"\n",
              "       width=\"24px\">\n",
              "    <path d=\"M0 0h24v24H0V0z\" fill=\"none\"/>\n",
              "    <path d=\"M18.56 5.44l.94 2.06.94-2.06 2.06-.94-2.06-.94-.94-2.06-.94 2.06-2.06.94zm-11 1L8.5 8.5l.94-2.06 2.06-.94-2.06-.94L8.5 2.5l-.94 2.06-2.06.94zm10 10l.94 2.06.94-2.06 2.06-.94-2.06-.94-.94-2.06-.94 2.06-2.06.94z\"/><path d=\"M17.41 7.96l-1.37-1.37c-.4-.4-.92-.59-1.43-.59-.52 0-1.04.2-1.43.59L10.3 9.45l-7.72 7.72c-.78.78-.78 2.05 0 2.83L4 21.41c.39.39.9.59 1.41.59.51 0 1.02-.2 1.41-.59l7.78-7.78 2.81-2.81c.8-.78.8-2.07 0-2.86zM5.41 20L4 18.59l7.72-7.72 1.47 1.35L5.41 20z\"/>\n",
              "  </svg>\n",
              "      </button>\n",
              "      \n",
              "  <style>\n",
              "    .colab-df-container {\n",
              "      display:flex;\n",
              "      flex-wrap:wrap;\n",
              "      gap: 12px;\n",
              "    }\n",
              "\n",
              "    .colab-df-convert {\n",
              "      background-color: #E8F0FE;\n",
              "      border: none;\n",
              "      border-radius: 50%;\n",
              "      cursor: pointer;\n",
              "      display: none;\n",
              "      fill: #1967D2;\n",
              "      height: 32px;\n",
              "      padding: 0 0 0 0;\n",
              "      width: 32px;\n",
              "    }\n",
              "\n",
              "    .colab-df-convert:hover {\n",
              "      background-color: #E2EBFA;\n",
              "      box-shadow: 0px 1px 2px rgba(60, 64, 67, 0.3), 0px 1px 3px 1px rgba(60, 64, 67, 0.15);\n",
              "      fill: #174EA6;\n",
              "    }\n",
              "\n",
              "    [theme=dark] .colab-df-convert {\n",
              "      background-color: #3B4455;\n",
              "      fill: #D2E3FC;\n",
              "    }\n",
              "\n",
              "    [theme=dark] .colab-df-convert:hover {\n",
              "      background-color: #434B5C;\n",
              "      box-shadow: 0px 1px 3px 1px rgba(0, 0, 0, 0.15);\n",
              "      filter: drop-shadow(0px 1px 2px rgba(0, 0, 0, 0.3));\n",
              "      fill: #FFFFFF;\n",
              "    }\n",
              "  </style>\n",
              "\n",
              "      <script>\n",
              "        const buttonEl =\n",
              "          document.querySelector('#df-8828bca2-71fd-4db0-bf40-58ae21c628ba button.colab-df-convert');\n",
              "        buttonEl.style.display =\n",
              "          google.colab.kernel.accessAllowed ? 'block' : 'none';\n",
              "\n",
              "        async function convertToInteractive(key) {\n",
              "          const element = document.querySelector('#df-8828bca2-71fd-4db0-bf40-58ae21c628ba');\n",
              "          const dataTable =\n",
              "            await google.colab.kernel.invokeFunction('convertToInteractive',\n",
              "                                                     [key], {});\n",
              "          if (!dataTable) return;\n",
              "\n",
              "          const docLinkHtml = 'Like what you see? Visit the ' +\n",
              "            '<a target=\"_blank\" href=https://colab.research.google.com/notebooks/data_table.ipynb>data table notebook</a>'\n",
              "            + ' to learn more about interactive tables.';\n",
              "          element.innerHTML = '';\n",
              "          dataTable['output_type'] = 'display_data';\n",
              "          await google.colab.output.renderOutput(dataTable, element);\n",
              "          const docLink = document.createElement('div');\n",
              "          docLink.innerHTML = docLinkHtml;\n",
              "          element.appendChild(docLink);\n",
              "        }\n",
              "      </script>\n",
              "    </div>\n",
              "  </div>\n",
              "  "
            ]
          },
          "metadata": {},
          "execution_count": 32
        }
      ]
    },
    {
      "cell_type": "markdown",
      "source": [
        "# ***Closed Form Solution***"
      ],
      "metadata": {
        "id": "QQs6Coy5U6UJ"
      }
    },
    {
      "cell_type": "markdown",
      "source": [
        "## dataset I\n",
        "\n",
        "---\n",
        "\n"
      ],
      "metadata": {
        "id": "1fqMBgatKR0s"
      }
    },
    {
      "cell_type": "code",
      "source": [
        "x1 = df_anscombe.query(\"dataset=='I'\").iloc[:, 1]\n",
        "y1 = df_anscombe.query(\"dataset=='I'\").iloc[:, 2]\n",
        "print(\"Mean of x1: \", x1.mean())\n",
        "print(\"Mean of y1: \", y1.mean())\n",
        "print(\"Variance of x1: \", x1.var())\n",
        "print(\"Variance of y1: \", y1.var())\n",
        "print(\"Standard deviation of x1: \", x1.std())\n",
        "print(\"Standard deviation of y1: \", y1.std())"
      ],
      "metadata": {
        "colab": {
          "base_uri": "https://localhost:8080/"
        },
        "id": "4SKleatywvya",
        "outputId": "b39671b8-fe5d-4e95-c3df-b6810592a63b"
      },
      "execution_count": null,
      "outputs": [
        {
          "output_type": "stream",
          "name": "stdout",
          "text": [
            "Mean of x1:  9.0\n",
            "Mean of y1:  7.500909090909093\n",
            "Variance of x1:  11.0\n",
            "Variance of y1:  4.127269090909091\n",
            "Standard deviation of x1:  3.3166247903554\n",
            "Standard deviation of y1:  2.031568135925815\n"
          ]
        }
      ]
    },
    {
      "cell_type": "code",
      "source": [],
      "metadata": {
        "id": "HBcw8HdGNKWw"
      },
      "execution_count": null,
      "outputs": []
    },
    {
      "cell_type": "code",
      "source": [
        "sns.scatterplot(x= x1, y= y1)"
      ],
      "metadata": {
        "colab": {
          "base_uri": "https://localhost:8080/",
          "height": 466
        },
        "id": "5Pq5M9q5wv93",
        "outputId": "70334722-0e83-4c5f-f043-f448a4f4a183"
      },
      "execution_count": null,
      "outputs": [
        {
          "output_type": "execute_result",
          "data": {
            "text/plain": [
              "<Axes: xlabel='x', ylabel='y'>"
            ]
          },
          "metadata": {},
          "execution_count": 34
        },
        {
          "output_type": "display_data",
          "data": {
            "text/plain": [
              "<Figure size 640x480 with 1 Axes>"
            ],
            "image/png": "[encoded data removed]"
          },
          "metadata": {}
        }
      ]
    },
    {
      "cell_type": "code",
      "source": [
        "numeraotor = np.cov(x1, y1)[0,1]\n",
        "denomirator = (np.std(x1, ddof=1))**2\n",
        "\n",
        "beta1 = numeraotor/denomirator\n",
        "beta1"
      ],
      "metadata": {
        "colab": {
          "base_uri": "https://localhost:8080/"
        },
        "id": "ewFhe3I7Eiim",
        "outputId": "51d21352-7a70-4ab8-d97a-e925bb5b482f"
      },
      "execution_count": null,
      "outputs": [
        {
          "output_type": "execute_result",
          "data": {
            "text/plain": [
              "0.5000909090909093"
            ]
          },
          "metadata": {},
          "execution_count": 35
        }
      ]
    },
    {
      "cell_type": "code",
      "source": [
        "beta0 = np.mean(y1) - beta1 * np.mean(x1)\n",
        "beta0"
      ],
      "metadata": {
        "colab": {
          "base_uri": "https://localhost:8080/"
        },
        "id": "Xs7IOsc_FDeZ",
        "outputId": "8f7f75c5-400d-4895-d16b-264c2a54290f"
      },
      "execution_count": null,
      "outputs": [
        {
          "output_type": "execute_result",
          "data": {
            "text/plain": [
              "3.0000909090909094"
            ]
          },
          "metadata": {},
          "execution_count": 36
        }
      ]
    },
    {
      "cell_type": "code",
      "source": [
        "predict = 5\n",
        "\n",
        "y_predict = beta0 + beta1 * predict\n",
        "y_predict"
      ],
      "metadata": {
        "id": "8rxwnT8BF5qQ",
        "colab": {
          "base_uri": "https://localhost:8080/"
        },
        "outputId": "521e415f-6494-4183-e6fb-155e9ae260c5"
      },
      "execution_count": null,
      "outputs": [
        {
          "output_type": "execute_result",
          "data": {
            "text/plain": [
              "5.500545454545456"
            ]
          },
          "metadata": {},
          "execution_count": 37
        }
      ]
    },
    {
      "cell_type": "code",
      "source": [
        "%matplotlib inline\n",
        "sns.lmplot(x=\"x\", y=\"y\", data=df_anscombe.query(\"dataset=='I'\"), ci=None );"
      ],
      "metadata": {
        "colab": {
          "base_uri": "https://localhost:8080/",
          "height": 506
        },
        "id": "sDbHTSmiIeXt",
        "outputId": "a6ef693f-5e3d-4ebc-8114-a872ac7aac9b"
      },
      "execution_count": null,
      "outputs": [
        {
          "output_type": "display_data",
          "data": {
            "text/plain": [
              "<Figure size 500x500 with 1 Axes>"
            ],
            "image/png": "[encoded data removed]"
          },
          "metadata": {}
        }
      ]
    },
    {
      "cell_type": "code",
      "source": [
        "x = np.array(df_anscombe.query(\"dataset=='I'\").iloc[:, 1])\n",
        "y = np.array(df_anscombe.query(\"dataset=='I'\").iloc[:, 2])\n",
        "\n",
        "ybar = np.mean(y)\n",
        "yhat = beta0 + x*beta1\n",
        "\n",
        "mae = (np.sum(abs(y- yhat)))/len(y)\n",
        "mse = (np.sum((y - yhat)**2))/len(y)\n",
        "# mse = (np.sum(y - yhat)**2)/len(y)\n",
        "rmse = np.sqrt((np.sum((y - yhat)**2))/len(y))\n",
        "\n",
        "sse =np.sum((y - yhat)**2)\n",
        "sst = np.sum((y - ybar)**2) \n",
        "r2 = 1 - (sse/sst)\n",
        "\n",
        "print(\"MAE: {:.3f}\".format(mae))\n",
        "print(\"MSE: {:.3f}\".format(mse))\n",
        "print(\"RMSE: {:.3f}\".format(rmse))\n",
        "print(\"R2: {:.3f}\".format(r2))"
      ],
      "metadata": {
        "colab": {
          "base_uri": "https://localhost:8080/"
        },
        "id": "-OTAB_frFjhT",
        "outputId": "8e9c42df-9eda-446d-84eb-07641bdfa074"
      },
      "execution_count": null,
      "outputs": [
        {
          "output_type": "stream",
          "name": "stdout",
          "text": [
            "MAE: 0.837\n",
            "MSE: 1.251\n",
            "RMSE: 1.119\n",
            "R2: 0.667\n"
          ]
        }
      ]
    },
    {
      "cell_type": "markdown",
      "source": [
        "## dataset II\n",
        "\n",
        "---\n",
        "\n"
      ],
      "metadata": {
        "id": "TFr_oxSVKXyE"
      }
    },
    {
      "cell_type": "code",
      "source": [
        "x2 = df_anscombe.query(\"dataset=='II'\").iloc[:, 1]\n",
        "y2 = df_anscombe.query(\"dataset=='II'\").iloc[:, 2]\n",
        "\n",
        "print(x2 , \"\\n\", y2)\n",
        "print(\"Mean of x2: \", x2.mean())\n",
        "print(\"Mean of y2: \", y2.mean())\n",
        "print(\"Variance of x2: \", x2.var())\n",
        "print(\"Variance of y2: \", y2.var())\n",
        "print(\"Standard deviation of x2: \", x2.std())\n",
        "print(\"Standard deviation of y2: \", y2.std())"
      ],
      "metadata": {
        "colab": {
          "base_uri": "https://localhost:8080/"
        },
        "outputId": "0ccf4a0e-a9a7-434b-99c7-ebeb4bdcac12",
        "id": "-MJEJwT5JiPF"
      },
      "execution_count": null,
      "outputs": [
        {
          "output_type": "stream",
          "name": "stdout",
          "text": [
            "11    10.0\n",
            "12     8.0\n",
            "13    13.0\n",
            "14     9.0\n",
            "15    11.0\n",
            "16    14.0\n",
            "17     6.0\n",
            "18     4.0\n",
            "19    12.0\n",
            "20     7.0\n",
            "21     5.0\n",
            "Name: x, dtype: float64 \n",
            " 11    9.14\n",
            "12    8.14\n",
            "13    8.74\n",
            "14    8.77\n",
            "15    9.26\n",
            "16    8.10\n",
            "17    6.13\n",
            "18    3.10\n",
            "19    9.13\n",
            "20    7.26\n",
            "21    4.74\n",
            "Name: y, dtype: float64\n",
            "Mean of x2:  9.0\n",
            "Mean of y2:  7.50090909090909\n",
            "Variance of x2:  11.0\n",
            "Variance of y2:  4.127629090909091\n",
            "Standard deviation of x2:  3.3166247903554\n",
            "Standard deviation of y2:  2.0316567355016177\n"
          ]
        }
      ]
    },
    {
      "cell_type": "code",
      "source": [
        "sns.scatterplot(x= x2, y= y2)"
      ],
      "metadata": {
        "colab": {
          "base_uri": "https://localhost:8080/",
          "height": 466
        },
        "outputId": "c0698473-0e7f-4d80-cfbb-a3dc827f9f22",
        "id": "DyoOyYxpKLbg"
      },
      "execution_count": null,
      "outputs": [
        {
          "output_type": "execute_result",
          "data": {
            "text/plain": [
              "<Axes: xlabel='x', ylabel='y'>"
            ]
          },
          "metadata": {},
          "execution_count": 41
        },
        {
          "output_type": "display_data",
          "data": {
            "text/plain": [
              "<Figure size 640x480 with 1 Axes>"
            ],
            "image/png": "[encoded data removed]"
          },
          "metadata": {}
        }
      ]
    },
    {
      "cell_type": "code",
      "source": [
        "numeraotor = np.cov(x2, y2)[0,1]\n",
        "denomirator = (np.std(x2, ddof=1))**2\n",
        "\n",
        "beta1 = numeraotor/denomirator\n",
        "beta1"
      ],
      "metadata": {
        "colab": {
          "base_uri": "https://localhost:8080/"
        },
        "outputId": "b10ed22b-fecb-43e2-d5bb-e9026eee3ede",
        "id": "8wRHvMNwKLb-"
      },
      "execution_count": null,
      "outputs": [
        {
          "output_type": "execute_result",
          "data": {
            "text/plain": [
              "0.5000000000000001"
            ]
          },
          "metadata": {},
          "execution_count": 42
        }
      ]
    },
    {
      "cell_type": "code",
      "source": [
        "beta0 = np.mean(y2) - beta1 * np.mean(x2)\n",
        "beta0"
      ],
      "metadata": {
        "colab": {
          "base_uri": "https://localhost:8080/"
        },
        "outputId": "85e74427-a54a-4d20-f1bb-f0d11b59c9b6",
        "id": "O4c44GGtKLb_"
      },
      "execution_count": null,
      "outputs": [
        {
          "output_type": "execute_result",
          "data": {
            "text/plain": [
              "3.000909090909089"
            ]
          },
          "metadata": {},
          "execution_count": 43
        }
      ]
    },
    {
      "cell_type": "code",
      "source": [
        "predict = 5\n",
        "\n",
        "y_predict = beta0 + beta1 * predict\n",
        "y_predict"
      ],
      "metadata": {
        "colab": {
          "base_uri": "https://localhost:8080/"
        },
        "id": "i1_qoHM3KLb_",
        "outputId": "1c567e67-aca8-4b65-a46a-75fd30bd3ab0"
      },
      "execution_count": null,
      "outputs": [
        {
          "output_type": "execute_result",
          "data": {
            "text/plain": [
              "5.50090909090909"
            ]
          },
          "metadata": {},
          "execution_count": 44
        }
      ]
    },
    {
      "cell_type": "code",
      "source": [
        "%matplotlib inline\n",
        "sns.lmplot(x=\"x\", y=\"y\", data=df_anscombe.query(\"dataset=='II'\"), ci=None );"
      ],
      "metadata": {
        "colab": {
          "base_uri": "https://localhost:8080/",
          "height": 507
        },
        "outputId": "4a952a50-9ce8-4d54-a54d-30b6494921db",
        "id": "ucPeVT0JKLb_"
      },
      "execution_count": null,
      "outputs": [
        {
          "output_type": "display_data",
          "data": {
            "text/plain": [
              "<Figure size 500x500 with 1 Axes>"
            ],
            "image/png": "[encoded data removed]"
          },
          "metadata": {}
        }
      ]
    },
    {
      "cell_type": "code",
      "source": [
        "x = np.array(df_anscombe.query(\"dataset=='II'\").iloc[:, 1])\n",
        "y = np.array(df_anscombe.query(\"dataset=='II'\").iloc[:, 2])\n",
        "\n",
        "ybar = np.mean(y)\n",
        "yhat = beta0 + x*beta1\n",
        "\n",
        "mae = (np.sum(abs(y- yhat)))/len(y)\n",
        "mse = (np.sum((y - yhat)**2))/len(y)\n",
        "# mse = (np.sum(y - yhat)**2)/len(y)\n",
        "rmse = np.sqrt((np.sum((y - yhat)**2))/len(y))\n",
        "\n",
        "sse =np.sum((y - yhat)**2)\n",
        "sst = np.sum((y - ybar)**2) \n",
        "r2 = 1 - (sse/sst)\n",
        "\n",
        "print(\"MAE: {:.3f}\".format(mae))\n",
        "print(\"MSE: {:.3f}\".format(mse))\n",
        "print(\"RMSE: {:.3f}\".format(rmse))\n",
        "print(\"R2: {:.3f}\".format(r2))"
      ],
      "metadata": {
        "colab": {
          "base_uri": "https://localhost:8080/"
        },
        "outputId": "0569af72-56b9-4153-e935-31b204a6c115",
        "id": "RyH8JElnKLcA"
      },
      "execution_count": null,
      "outputs": [
        {
          "output_type": "stream",
          "name": "stdout",
          "text": [
            "MAE: 0.968\n",
            "MSE: 1.252\n",
            "RMSE: 1.119\n",
            "R2: 0.666\n"
          ]
        }
      ]
    },
    {
      "cell_type": "markdown",
      "source": [
        "## dataset III\n",
        "\n",
        "---\n",
        "\n"
      ],
      "metadata": {
        "id": "m4L9mX3QK4lt"
      }
    },
    {
      "cell_type": "code",
      "source": [
        "x3 = df_anscombe.query(\"dataset=='III'\").iloc[:, 1]\n",
        "y3 = df_anscombe.query(\"dataset=='III'\").iloc[:, 2]\n",
        "\n",
        "print(x3, \"\\n\", y3)\n",
        "print(\"Mean of x3: \", x3.mean())\n",
        "print(\"Mean of y3: \", y3.mean())\n",
        "print(\"Variance of x3: \", x3.var())\n",
        "print(\"Variance of y3: \", y3.var())\n",
        "print(\"Standard deviation of x3: \", x3.std())\n",
        "print(\"Standard deviation of y3: \", y3.std())\n"
      ],
      "metadata": {
        "id": "4nwKBtLYJwLq",
        "colab": {
          "base_uri": "https://localhost:8080/"
        },
        "outputId": "68592320-c13d-4d38-95c9-38e0842e9171"
      },
      "execution_count": null,
      "outputs": [
        {
          "output_type": "stream",
          "name": "stdout",
          "text": [
            "22    10.0\n",
            "23     8.0\n",
            "24    13.0\n",
            "25     9.0\n",
            "26    11.0\n",
            "27    14.0\n",
            "28     6.0\n",
            "29     4.0\n",
            "30    12.0\n",
            "31     7.0\n",
            "32     5.0\n",
            "Name: x, dtype: float64 \n",
            " 22     7.46\n",
            "23     6.77\n",
            "24    12.74\n",
            "25     7.11\n",
            "26     7.81\n",
            "27     8.84\n",
            "28     6.08\n",
            "29     5.39\n",
            "30     8.15\n",
            "31     6.42\n",
            "32     5.73\n",
            "Name: y, dtype: float64\n",
            "Mean of x3:  9.0\n",
            "Mean of y3:  7.5\n",
            "Variance of x3:  11.0\n",
            "Variance of y3:  4.12262\n",
            "Standard deviation of x3:  3.3166247903554\n",
            "Standard deviation of y3:  2.030423601123667\n"
          ]
        }
      ]
    },
    {
      "cell_type": "code",
      "source": [
        "sns.scatterplot(x= x3, y= y3)"
      ],
      "metadata": {
        "colab": {
          "base_uri": "https://localhost:8080/",
          "height": 467
        },
        "outputId": "a1a2c71a-0ae3-4c27-ff95-0a032c72a800",
        "id": "iD6SsvFIK8On"
      },
      "execution_count": null,
      "outputs": [
        {
          "output_type": "execute_result",
          "data": {
            "text/plain": [
              "<Axes: xlabel='x', ylabel='y'>"
            ]
          },
          "metadata": {},
          "execution_count": 48
        },
        {
          "output_type": "display_data",
          "data": {
            "text/plain": [
              "<Figure size 640x480 with 1 Axes>"
            ],
            "image/png": "[encoded data removed]"
          },
          "metadata": {}
        }
      ]
    },
    {
      "cell_type": "code",
      "source": [
        "numeraotor = np.cov(x3, y3)[0,1]\n",
        "denomirator = (np.std(x3, ddof=1))**2\n",
        "\n",
        "beta1 = numeraotor/denomirator\n",
        "beta1"
      ],
      "metadata": {
        "colab": {
          "base_uri": "https://localhost:8080/"
        },
        "outputId": "fe1eb76e-b4fb-4bbc-fb74-c9c9b487d8d9",
        "id": "AL37b5q6K8Oq"
      },
      "execution_count": null,
      "outputs": [
        {
          "output_type": "execute_result",
          "data": {
            "text/plain": [
              "0.49972727272727285"
            ]
          },
          "metadata": {},
          "execution_count": 49
        }
      ]
    },
    {
      "cell_type": "code",
      "source": [
        "beta0 = np.mean(y3) - beta1 * np.mean(x3)\n",
        "beta0"
      ],
      "metadata": {
        "colab": {
          "base_uri": "https://localhost:8080/"
        },
        "outputId": "1a9727af-3b2e-4850-fcba-77d0c4ab2694",
        "id": "q8IPTvKHK8Or"
      },
      "execution_count": null,
      "outputs": [
        {
          "output_type": "execute_result",
          "data": {
            "text/plain": [
              "3.002454545454544"
            ]
          },
          "metadata": {},
          "execution_count": 50
        }
      ]
    },
    {
      "cell_type": "code",
      "source": [
        "predict = 5\n",
        "\n",
        "y_predict = beta0 + beta1 * predict\n",
        "y_predict"
      ],
      "metadata": {
        "colab": {
          "base_uri": "https://localhost:8080/"
        },
        "id": "222REfi0K8Os",
        "outputId": "5cd00cea-86bc-41a1-c0b8-dcc24e03927e"
      },
      "execution_count": null,
      "outputs": [
        {
          "output_type": "execute_result",
          "data": {
            "text/plain": [
              "5.501090909090909"
            ]
          },
          "metadata": {},
          "execution_count": 51
        }
      ]
    },
    {
      "cell_type": "code",
      "source": [
        "%matplotlib inline\n",
        "sns.lmplot(x=\"x\", y=\"y\", data=df_anscombe.query(\"dataset=='III'\"), ci=None );"
      ],
      "metadata": {
        "colab": {
          "base_uri": "https://localhost:8080/",
          "height": 507
        },
        "outputId": "687ea24d-fc15-4da5-9f43-d9952082a90d",
        "id": "DOtEqATtK8Os"
      },
      "execution_count": null,
      "outputs": [
        {
          "output_type": "display_data",
          "data": {
            "text/plain": [
              "<Figure size 500x500 with 1 Axes>"
            ],
            "image/png": "[encoded data removed]"
          },
          "metadata": {}
        }
      ]
    },
    {
      "cell_type": "code",
      "source": [
        "x = np.array(df_anscombe.query(\"dataset=='III'\").iloc[:, 1])\n",
        "y = np.array(df_anscombe.query(\"dataset=='III'\").iloc[:, 2])\n",
        "\n",
        "ybar = np.mean(y)\n",
        "yhat = beta0 + x*beta1\n",
        "\n",
        "mae = (np.sum(abs(y- yhat)))/len(y)\n",
        "mse = (np.sum((y - yhat)**2))/len(y)\n",
        "# mse = (np.sum(y - yhat)**2)/len(y)\n",
        "rmse = np.sqrt((np.sum((y - yhat)**2))/len(y))\n",
        "\n",
        "sse =np.sum((y - yhat)**2)\n",
        "sst = np.sum((y - ybar)**2) \n",
        "r2 = 1 - (sse/sst)\n",
        "\n",
        "print(\"MAE: {:.3f}\".format(mae))\n",
        "print(\"MSE: {:.3f}\".format(mse))\n",
        "print(\"RMSE: {:.3f}\".format(rmse))\n",
        "print(\"R2: {:.3f}\".format(r2))"
      ],
      "metadata": {
        "colab": {
          "base_uri": "https://localhost:8080/"
        },
        "outputId": "b8b80d06-4eea-4845-8c3a-9c61c15db522",
        "id": "vrRqTsBrK8Ot"
      },
      "execution_count": null,
      "outputs": [
        {
          "output_type": "stream",
          "name": "stdout",
          "text": [
            "MAE: 0.716\n",
            "MSE: 1.251\n",
            "RMSE: 1.118\n",
            "R2: 0.666\n"
          ]
        }
      ]
    },
    {
      "cell_type": "markdown",
      "source": [
        "## dataset IV\n",
        "\n",
        "\n",
        "---\n",
        "\n",
        "\n",
        "\n"
      ],
      "metadata": {
        "id": "Uk11P-K8LtM6"
      }
    },
    {
      "cell_type": "code",
      "source": [
        "x4 = df_anscombe.query(\"dataset=='IV'\").iloc[:, 1]\n",
        "y4 = df_anscombe.query(\"dataset=='IV'\").iloc[:, 2]\n",
        "\n",
        "print(x4, \"\\n\", y4)\n",
        "print(\"Mean of x4: \", x4.mean())\n",
        "print(\"Mean of y4: \", y4.mean())\n",
        "print(\"Variance of x4: \", x4.var())\n",
        "print(\"Variance of y4: \", y4.var())\n",
        "print(\"Standard deviation of x4: \", x4.std())\n",
        "print(\"Standard deviation of y4: \", y4.std())"
      ],
      "metadata": {
        "colab": {
          "base_uri": "https://localhost:8080/"
        },
        "id": "oFt17OvKLzNo",
        "outputId": "74e07f7c-1658-404e-d864-06eb4e3390d2"
      },
      "execution_count": null,
      "outputs": [
        {
          "output_type": "stream",
          "name": "stdout",
          "text": [
            "33     8.0\n",
            "34     8.0\n",
            "35     8.0\n",
            "36     8.0\n",
            "37     8.0\n",
            "38     8.0\n",
            "39     8.0\n",
            "40    19.0\n",
            "41     8.0\n",
            "42     8.0\n",
            "43     8.0\n",
            "Name: x, dtype: float64 \n",
            " 33     6.58\n",
            "34     5.76\n",
            "35     7.71\n",
            "36     8.84\n",
            "37     8.47\n",
            "38     7.04\n",
            "39     5.25\n",
            "40    12.50\n",
            "41     5.56\n",
            "42     7.91\n",
            "43     6.89\n",
            "Name: y, dtype: float64\n",
            "Mean of x4:  9.0\n",
            "Mean of y4:  7.500909090909091\n",
            "Variance of x4:  11.0\n",
            "Variance of y4:  4.123249090909091\n",
            "Standard deviation of x4:  3.3166247903554\n",
            "Standard deviation of y4:  2.0305785113876023\n"
          ]
        }
      ]
    },
    {
      "cell_type": "code",
      "source": [
        "sns.scatterplot(x= x4, y= y4)"
      ],
      "metadata": {
        "colab": {
          "base_uri": "https://localhost:8080/",
          "height": 466
        },
        "outputId": "bd60b56a-fa70-49a9-fe4f-ca70611b6692",
        "id": "J2uAHsvRLzy4"
      },
      "execution_count": null,
      "outputs": [
        {
          "output_type": "execute_result",
          "data": {
            "text/plain": [
              "<Axes: xlabel='x', ylabel='y'>"
            ]
          },
          "metadata": {},
          "execution_count": 55
        },
        {
          "output_type": "display_data",
          "data": {
            "text/plain": [
              "<Figure size 640x480 with 1 Axes>"
            ],
            "image/png": "[encoded data removed]"
          },
          "metadata": {}
        }
      ]
    },
    {
      "cell_type": "code",
      "source": [
        "numeraotor = np.cov(x4, y4)[0,1]\n",
        "denomirator = (np.std(x4, ddof=1))**2\n",
        "\n",
        "beta1 = numeraotor/denomirator\n",
        "beta1"
      ],
      "metadata": {
        "colab": {
          "base_uri": "https://localhost:8080/"
        },
        "outputId": "8ec6cf2b-92a6-439a-ed62-277031c946f6",
        "id": "hj6DrwuwLzy6"
      },
      "execution_count": null,
      "outputs": [
        {
          "output_type": "execute_result",
          "data": {
            "text/plain": [
              "0.49990909090909086"
            ]
          },
          "metadata": {},
          "execution_count": 56
        }
      ]
    },
    {
      "cell_type": "code",
      "source": [
        "beta0 = np.mean(y4) - beta1 * np.mean(x4)\n",
        "beta0"
      ],
      "metadata": {
        "colab": {
          "base_uri": "https://localhost:8080/"
        },
        "outputId": "82ef966a-9474-4ed6-e84a-0029bf2c7856",
        "id": "o1Wz8Q9SLzy8"
      },
      "execution_count": null,
      "outputs": [
        {
          "output_type": "execute_result",
          "data": {
            "text/plain": [
              "3.0017272727272735"
            ]
          },
          "metadata": {},
          "execution_count": 57
        }
      ]
    },
    {
      "cell_type": "code",
      "source": [
        "predict = 5\n",
        "\n",
        "y_predict = beta0 + beta1 * predict\n",
        "y_predict"
      ],
      "metadata": {
        "colab": {
          "base_uri": "https://localhost:8080/"
        },
        "id": "epLWHgn4Lzy9",
        "outputId": "315a3152-21e2-412e-d6e9-79a27a7900ed"
      },
      "execution_count": null,
      "outputs": [
        {
          "output_type": "execute_result",
          "data": {
            "text/plain": [
              "5.5012727272727275"
            ]
          },
          "metadata": {},
          "execution_count": 58
        }
      ]
    },
    {
      "cell_type": "code",
      "source": [
        "%matplotlib inline\n",
        "sns.lmplot(x=\"x\", y=\"y\", data=df_anscombe.query(\"dataset=='IV'\"), ci=None );"
      ],
      "metadata": {
        "colab": {
          "base_uri": "https://localhost:8080/",
          "height": 506
        },
        "outputId": "78b2e386-94f0-4ffe-bbe4-38c2bb83c9dc",
        "id": "Vlx8cT-RLzy-"
      },
      "execution_count": null,
      "outputs": [
        {
          "output_type": "display_data",
          "data": {
            "text/plain": [
              "<Figure size 500x500 with 1 Axes>"
            ],
            "image/png": "[encoded data removed]"
          },
          "metadata": {}
        }
      ]
    },
    {
      "cell_type": "code",
      "source": [
        "x = np.array(df_anscombe.query(\"dataset=='IV'\").iloc[:, 1])\n",
        "y = np.array(df_anscombe.query(\"dataset=='IV'\").iloc[:, 2])\n",
        "\n",
        "ybar = np.mean(y)\n",
        "yhat = beta0 + x*beta1\n",
        "\n",
        "mae = (np.sum(abs(y- yhat)))/len(y)\n",
        "mse = (np.sum((y - yhat)**2))/len(y)\n",
        "# mse = (np.sum(y - yhat)**2)/len(y)\n",
        "rmse = np.sqrt((np.sum((y - yhat)**2))/len(y))\n",
        "\n",
        "sse =np.sum((y - yhat)**2)\n",
        "sst = np.sum((y - ybar)**2) \n",
        "r2 = 1 - (sse/sst)\n",
        "\n",
        "print(\"MAE: {:.3f}\".format(mae))\n",
        "print(\"MSE: {:.3f}\".format(mse))\n",
        "print(\"RMSE: {:.3f}\".format(rmse))\n",
        "print(\"R2: {:.3f}\".format(r2))"
      ],
      "metadata": {
        "colab": {
          "base_uri": "https://localhost:8080/"
        },
        "outputId": "bf0e82fc-3327-4644-b826-ec09e1de81b9",
        "id": "dk6nnAQgLzy_"
      },
      "execution_count": null,
      "outputs": [
        {
          "output_type": "stream",
          "name": "stdout",
          "text": [
            "MAE: 0.903\n",
            "MSE: 1.249\n",
            "RMSE: 1.118\n",
            "R2: 0.667\n"
          ]
        }
      ]
    },
    {
      "cell_type": "markdown",
      "source": [
        "# 2. ***Matrix Form Solution***\n",
        "\n",
        "\n",
        "\n",
        "\n",
        "\n",
        "\n"
      ],
      "metadata": {
        "id": "bW_0HR66HU-i"
      }
    },
    {
      "cell_type": "code",
      "source": [
        "x1_m = np.array(df_anscombe.query(\"dataset=='I'\").iloc[:, 1])\n",
        "x2_m = np.array(df_anscombe.query(\"dataset=='II'\").iloc[:, 1])\n",
        "x3_m = np.array(df_anscombe.query(\"dataset=='III'\").iloc[:, 1])\n",
        "x4_m = np.array(df_anscombe.query(\"dataset=='IV'\").iloc[:, 1])\n",
        "\n",
        "x = x1_m\n",
        "y = y = np.array(df_anscombe.query(\"dataset=='I'\").iloc[:, 2])\n",
        "numerator = sum(np.multiply(x - np.mean(x), y - np.mean(y)))\n",
        "denominator = np.multiply((np.sqrt(np.sum((x-np.mean(x))**2))), np.sqrt(np.sum((y-np.mean(y))**2)))\n",
        "corr_coef_x1 = numerator / denominator\n",
        "\n",
        "x = x2_m\n",
        "y = y = np.array(df_anscombe.query(\"dataset=='II'\").iloc[:, 2])\n",
        "numerator = sum(np.multiply(x - np.mean(x), y - np.mean(y)))\n",
        "denominator = np.multiply((np.sqrt(np.sum((x-np.mean(x))**2))), np.sqrt(np.sum((y-np.mean(y))**2)))\n",
        "corr_coef_x2 = numerator / denominator\n",
        "\n",
        "x = x3_m\n",
        "y = np.array(df_anscombe.query(\"dataset=='III'\").iloc[:, 2])\n",
        "numerator = sum(np.multiply(x - np.mean(x), y - np.mean(y)))\n",
        "denominator = np.multiply((np.sqrt(np.sum((x-np.mean(x))**2))), np.sqrt(np.sum((y-np.mean(y))**2)))\n",
        "corr_coef_x3 = numerator / denominator\n",
        "\n",
        "x = x4_m\n",
        "y = y = np.array(df_anscombe.query(\"dataset=='IV'\").iloc[:, 2])\n",
        "numerator = sum(np.multiply(x - np.mean(x), y - np.mean(y)))\n",
        "denominator = np.multiply((np.sqrt(np.sum((x-np.mean(x))**2))), np.sqrt(np.sum((y-np.mean(y))**2)))\n",
        "corr_coef_x4 = numerator / denominator\n",
        "\n",
        "fig, (ax1,ax2, ax3, ax4) = plt.subplots(1,4, figsize=(16,8))\n",
        "\n",
        "ax1.set_title(\"P Correlation Coefficient: {:.4f}\".format(corr_coef_x1))\n",
        "sns.scatterplot(x='x', y='y', data=df_anscombe, ax=ax1)\n",
        "\n",
        "ax2.set_title(\"P Correlation Coefficient: {:.4f}\".format(corr_coef_x2))\n",
        "sns.scatterplot(x='x', y='y', data=df_anscombe, ax=ax2)\n",
        "\n",
        "ax3.set_title(\"P Correlation Coefficient: {:.4f}\".format(corr_coef_x3))\n",
        "sns.scatterplot(x='x', y='y', data=df_anscombe, ax=ax3);\n",
        "\n",
        "ax4.set_title(\"P Correlation Coefficient: {:.4f}\".format(corr_coef_x4))\n",
        "sns.scatterplot(x='x', y='y', data=df_anscombe, ax=ax4);\n"
      ],
      "metadata": {
        "id": "MK7OTlMFLoRj",
        "colab": {
          "base_uri": "https://localhost:8080/",
          "height": 718
        },
        "outputId": "fc44a441-ea6d-4980-9874-96436df868eb"
      },
      "execution_count": null,
      "outputs": [
        {
          "output_type": "display_data",
          "data": {
            "text/plain": [
              "<Figure size 1600x800 with 4 Axes>"
            ],
            "image/png": "[encoded data removed]"
          },
          "metadata": {}
        }
      ]
    },
    {
      "cell_type": "markdown",
      "source": [
        "### Dataset I"
      ],
      "metadata": {
        "id": "YHbNRD9mXB9Q"
      }
    },
    {
      "cell_type": "code",
      "source": [
        "x1 = np.array(df_anscombe.query(\"dataset=='I'\").iloc[:, 1])\n",
        "y1 = np.array(df_anscombe.query(\"dataset=='I'\").iloc[:, 2])\n",
        "\n",
        "x1 = x1.reshape(x1.size, 1)\n",
        "X = np.hstack((np.ones((x1.size,1)), x1))\n",
        "beta = np.linalg.inv(X.T @ X) @ X.T @ y1\n",
        "beta"
      ],
      "metadata": {
        "colab": {
          "base_uri": "https://localhost:8080/"
        },
        "id": "QkSlhn81XYC9",
        "outputId": "e8771276-6ae9-4428-fe04-3f3883936dcc"
      },
      "execution_count": null,
      "outputs": [
        {
          "output_type": "execute_result",
          "data": {
            "text/plain": [
              "array([3.00009091, 0.50009091])"
            ]
          },
          "metadata": {},
          "execution_count": 164
        }
      ]
    },
    {
      "cell_type": "code",
      "source": [
        "choose = 10\n",
        "x1_predict = beta[0] + beta[1] * choose\n",
        "print(x1_predict)"
      ],
      "metadata": {
        "colab": {
          "base_uri": "https://localhost:8080/"
        },
        "outputId": "6debc2fe-cd3c-4dd6-944e-f579c25c9cdb",
        "id": "H-K8ovAEX5Gg"
      },
      "execution_count": null,
      "outputs": [
        {
          "output_type": "stream",
          "name": "stdout",
          "text": [
            "8.00090909090909\n"
          ]
        }
      ]
    },
    {
      "cell_type": "markdown",
      "source": [
        "### Dataset II"
      ],
      "metadata": {
        "id": "V5x0uM-SZBBR"
      }
    },
    {
      "cell_type": "code",
      "source": [
        "x2 = np.array(df_anscombe.query(\"dataset=='II'\").iloc[:, 1])\n",
        "y2 = np.array(df_anscombe.query(\"dataset=='II'\").iloc[:, 2])\n",
        "\n",
        "x2 = x2.reshape(x2.size, 1)\n",
        "X = np.hstack((np.ones((x2.size,1)), x2))\n",
        "beta = np.linalg.inv(X.T @ X) @ X.T @ y2\n",
        "beta"
      ],
      "metadata": {
        "colab": {
          "base_uri": "https://localhost:8080/"
        },
        "outputId": "b10a1ee9-c811-4bf5-fb4c-b95726ce74bb",
        "id": "m938mjvAZQl8"
      },
      "execution_count": null,
      "outputs": [
        {
          "output_type": "execute_result",
          "data": {
            "text/plain": [
              "array([3.00090909, 0.5       ])"
            ]
          },
          "metadata": {},
          "execution_count": 175
        }
      ]
    },
    {
      "cell_type": "code",
      "source": [
        "choose = 10\n",
        "x2_predict = beta[0] + beta[1] * choose\n",
        "print(x2_predict)"
      ],
      "metadata": {
        "colab": {
          "base_uri": "https://localhost:8080/"
        },
        "outputId": "4f21e454-1c27-4553-8ae5-c6e8fff98cda",
        "id": "z8VWafTDZQl-"
      },
      "execution_count": null,
      "outputs": [
        {
          "output_type": "stream",
          "name": "stdout",
          "text": [
            "8.00090909090909\n"
          ]
        }
      ]
    },
    {
      "cell_type": "markdown",
      "source": [
        "### Dataset III"
      ],
      "metadata": {
        "id": "cHaOutU9ZGEn"
      }
    },
    {
      "cell_type": "code",
      "source": [
        "x3 = np.array(df_anscombe.query(\"dataset=='III'\").iloc[:, 1])\n",
        "y3 = np.array(df_anscombe.query(\"dataset=='III'\").iloc[:, 2])\n",
        "\n",
        "x3 = x3.reshape(x3.size, 1)\n",
        "X = np.hstack((np.ones((x3.size,1)), x3))\n",
        "beta = np.linalg.inv(X.T @ X) @ X.T @ y3\n",
        "beta"
      ],
      "metadata": {
        "colab": {
          "base_uri": "https://localhost:8080/"
        },
        "outputId": "d169e642-c52c-4f2d-b8c2-747c03d8fe03",
        "id": "VSJBZtg_ZSuM"
      },
      "execution_count": null,
      "outputs": [
        {
          "output_type": "execute_result",
          "data": {
            "text/plain": [
              "array([3.00245455, 0.49972727])"
            ]
          },
          "metadata": {},
          "execution_count": 170
        }
      ]
    },
    {
      "cell_type": "code",
      "source": [
        "choose = 10\n",
        "x1_predict = beta[0] + beta[1] * choose\n",
        "print(x1_predict)"
      ],
      "metadata": {
        "colab": {
          "base_uri": "https://localhost:8080/"
        },
        "outputId": "2bb9e8fe-1b3d-4df3-bf4b-19090cb3368f",
        "id": "8k-OMFZXZSuP"
      },
      "execution_count": null,
      "outputs": [
        {
          "output_type": "stream",
          "name": "stdout",
          "text": [
            "7.99972727272727\n"
          ]
        }
      ]
    },
    {
      "cell_type": "markdown",
      "source": [
        "### Dataset IV"
      ],
      "metadata": {
        "id": "JWvwaB3eZJry"
      }
    },
    {
      "cell_type": "code",
      "source": [
        "x4 = np.array(df_anscombe.query(\"dataset=='IV'\").iloc[:, 1])\n",
        "y4 = np.array(df_anscombe.query(\"dataset=='IV'\").iloc[:, 2])\n",
        "\n",
        "x4 = x4.reshape(x4.size, 1)\n",
        "X = np.hstack((np.ones((x4.size,1)), x4))\n",
        "beta = np.linalg.inv(X.T @ X) @ X.T @ y4\n",
        "beta"
      ],
      "metadata": {
        "colab": {
          "base_uri": "https://localhost:8080/"
        },
        "outputId": "8b681fdf-9aca-44f5-940b-3314221ed34a",
        "id": "CerU5SwlZVQU"
      },
      "execution_count": null,
      "outputs": [
        {
          "output_type": "execute_result",
          "data": {
            "text/plain": [
              "array([3.00172727, 0.49990909])"
            ]
          },
          "metadata": {},
          "execution_count": 168
        }
      ]
    },
    {
      "cell_type": "code",
      "source": [
        "choose = 10\n",
        "x4_predict = beta[0] + beta[1] * choose\n",
        "print(x4_predict)"
      ],
      "metadata": {
        "colab": {
          "base_uri": "https://localhost:8080/"
        },
        "outputId": "1b4d8c6d-53ab-4d92-b31f-a79e36d4bf3c",
        "id": "iBYkGzd-ZVQV"
      },
      "execution_count": null,
      "outputs": [
        {
          "output_type": "stream",
          "name": "stdout",
          "text": [
            "8.000818181818182\n"
          ]
        }
      ]
    },
    {
      "cell_type": "code",
      "source": [],
      "metadata": {
        "id": "Fu4AKaDEWg-l"
      },
      "execution_count": null,
      "outputs": []
    },
    {
      "cell_type": "markdown",
      "source": [
        "# ***Gradient Descent***\n"
      ],
      "metadata": {
        "id": "L9QBX3G6HVaa"
      }
    },
    {
      "cell_type": "markdown",
      "source": [
        "### Dataset I"
      ],
      "metadata": {
        "id": "4jEPp_9tGBZ8"
      }
    },
    {
      "cell_type": "code",
      "source": [
        "x1 = df_anscombe.query(\"dataset=='I'\").iloc[:, 1]\n",
        "y1 = df_anscombe.query(\"dataset=='I'\").iloc[:, 2]\n",
        "n = df_anscombe.shape[0]\n",
        "\n",
        "beta0 = 0.5\n",
        "beta1 = 0.5\n",
        "\n",
        "alpha = 0.001\n",
        "epochs = 10000\n",
        "\n",
        "for i in range(epochs):\n",
        "  yhat = beta0 + beta1 * x1\n",
        "\n",
        "  d_beta0 = (-1/n) * sum((y1 - yhat))\n",
        "  d_beta1 = (-1/n) * sum(x1 * (y1 - yhat))\n",
        "\n",
        "  beta0 = beta0 - alpha *d_beta0\n",
        "  beta1 = beta1 - alpha *d_beta1\n",
        "\n",
        "print(\"beta0 = {:.5f}\\nbeta1 = {:.5f}\\n\".format(beta0, beta1))\n"
      ],
      "metadata": {
        "colab": {
          "base_uri": "https://localhost:8080/"
        },
        "id": "C9esEHRj5Xw_",
        "outputId": "d5971572-4a7b-4e15-896b-5d3fabfebde6"
      },
      "execution_count": null,
      "outputs": [
        {
          "output_type": "stream",
          "name": "stdout",
          "text": [
            "beta0 = 1.11401\n",
            "beta1 = 0.68685\n",
            "\n"
          ]
        }
      ]
    },
    {
      "cell_type": "code",
      "source": [
        "%matplotlib inline\n",
        "x1 = df_anscombe.query(\"dataset=='I'\").iloc[:, 1]\n",
        "y1 = df_anscombe.query(\"dataset=='I'\").iloc[:, 2]\n",
        "fig, ax = plt.subplots(nrows=1, ncols=1)\n",
        "plt.scatter(x1,y1)\n",
        "xpointsofline = np.linspace(0, 15, 1000)\n",
        "ypointsofline = beta0 + beta1 * xpointsofline\n",
        "plt.plot(xpointsofline, ypointsofline)\n",
        "plt.grid()\n",
        "plt.axvline(x=0, color='gray')\n",
        "plt.axhline(y=0, color='gray')\n",
        "plt.xlabel('x1')\n",
        "plt.ylabel('y')\n",
        "plt.show()"
      ],
      "metadata": {
        "colab": {
          "base_uri": "https://localhost:8080/",
          "height": 449
        },
        "id": "kbNN5jEL5Xzo",
        "outputId": "a7795541-d122-468b-f751-67a230b5ecfa"
      },
      "execution_count": null,
      "outputs": [
        {
          "output_type": "display_data",
          "data": {
            "text/plain": [
              "<Figure size 640x480 with 1 Axes>"
            ],
            "image/png": "[encoded data removed]"
          },
          "metadata": {}
        }
      ]
    },
    {
      "cell_type": "code",
      "source": [
        "choose = 10\n",
        "x1_predict = beta0 + beta1 * choose\n",
        "print(x1_predict)"
      ],
      "metadata": {
        "colab": {
          "base_uri": "https://localhost:8080/"
        },
        "id": "dbLQmAb0KYMm",
        "outputId": "ad9fdfed-6f99-4731-f611-f8a077446dac"
      },
      "execution_count": null,
      "outputs": [
        {
          "output_type": "stream",
          "name": "stdout",
          "text": [
            "7.982507220893633\n"
          ]
        }
      ]
    },
    {
      "cell_type": "markdown",
      "source": [
        "### Dataset II"
      ],
      "metadata": {
        "id": "C0hgoX4qMTaX"
      }
    },
    {
      "cell_type": "code",
      "source": [
        "x2 = df_anscombe.query(\"dataset=='II'\").iloc[:, 1]\n",
        "y2 = df_anscombe.query(\"dataset=='II'\").iloc[:, 2]\n",
        "n = df_anscombe.shape[0]\n",
        "\n",
        "beta0 = 3\n",
        "beta1 = 4\n",
        "\n",
        "alpha = 0.001\n",
        "epochs = 50000\n",
        "\n",
        "for i in range(epochs):\n",
        "  yhat = beta0 + beta1 * x2\n",
        "\n",
        "  d_beta0 = (-1/n) * sum((y2 - yhat))\n",
        "  d_beta1 = (-1/n) * sum(x2 * (y2 - yhat))\n",
        "\n",
        "  beta0 = beta0 - alpha *d_beta0\n",
        "  beta1 = beta1 - alpha *d_beta1\n",
        "\n",
        "print(\"beta0 = {:.5f}\\nbeta1 = {:.5f}\\n\".format(beta0, beta1))\n"
      ],
      "metadata": {
        "colab": {
          "base_uri": "https://localhost:8080/"
        },
        "outputId": "04b79477-509f-4b37-fcd9-3f3980c3998c",
        "id": "QOYDZ5qvMWNw"
      },
      "execution_count": null,
      "outputs": [
        {
          "output_type": "stream",
          "name": "stdout",
          "text": [
            "beta0 = 2.91262\n",
            "beta1 = 0.50874\n",
            "\n"
          ]
        }
      ]
    },
    {
      "cell_type": "code",
      "source": [
        "%matplotlib inline\n",
        "x2 = df_anscombe.query(\"dataset=='II'\").iloc[:, 1]\n",
        "y2 = df_anscombe.query(\"dataset=='II'\").iloc[:, 2]\n",
        "fig, ax = plt.subplots(nrows=1, ncols=1)\n",
        "plt.scatter(x2,y2)\n",
        "xpointsofline = np.linspace(0, 15, 1000)\n",
        "ypointsofline = beta0 + beta1 * xpointsofline\n",
        "plt.plot(xpointsofline, ypointsofline)\n",
        "plt.grid()\n",
        "plt.axvline(x=0, color='gray')\n",
        "plt.axhline(y=0, color='gray')\n",
        "plt.xlabel('x2')\n",
        "plt.ylabel('y')\n",
        "plt.show()"
      ],
      "metadata": {
        "colab": {
          "base_uri": "https://localhost:8080/",
          "height": 449
        },
        "outputId": "f3ab086a-dd46-4c50-890a-af0fa2dec2d4",
        "id": "YQRavmzBQhGt"
      },
      "execution_count": null,
      "outputs": [
        {
          "output_type": "display_data",
          "data": {
            "text/plain": [
              "<Figure size 640x480 with 1 Axes>"
            ],
            "image/png": "[encoded data removed]"
          },
          "metadata": {}
        }
      ]
    },
    {
      "cell_type": "code",
      "source": [
        "choose = 10\n",
        "x2_predict = beta0 + beta1 * choose\n",
        "print(x2_predict)"
      ],
      "metadata": {
        "colab": {
          "base_uri": "https://localhost:8080/"
        },
        "outputId": "b38a188c-d03f-4193-b351-09a547d7a977",
        "id": "SOPevhG2RO5K"
      },
      "execution_count": null,
      "outputs": [
        {
          "output_type": "stream",
          "name": "stdout",
          "text": [
            "8.000043426031338\n"
          ]
        }
      ]
    },
    {
      "cell_type": "markdown",
      "source": [
        "### Dataset III"
      ],
      "metadata": {
        "id": "EviUJg3qMZl9"
      }
    },
    {
      "cell_type": "code",
      "source": [
        "x3 = df_anscombe.query(\"dataset=='III'\").iloc[:, 1]\n",
        "y3 = df_anscombe.query(\"dataset=='III'\").iloc[:, 2]\n",
        "n = df_anscombe.shape[0]\n",
        "\n",
        "beta0 = 0.5\n",
        "beta1 = 0.5\n",
        "\n",
        "alpha = 0.001\n",
        "epochs = 10000\n",
        "\n",
        "for i in range(epochs):\n",
        "  yhat = beta0 + beta1 * x3\n",
        "\n",
        "  d_beta0 = (-1/n) * sum((y3 - yhat))\n",
        "  d_beta1 = (-1/n) * sum(x3 * (y3 - yhat))\n",
        "\n",
        "  beta0 = beta0 - alpha *d_beta0\n",
        "  beta1 = beta1 - alpha *d_beta1\n",
        "\n",
        "print(\"beta0 = {:.5f}\\nbeta1 = {:.5f}\\n\".format(beta0, beta1))\n"
      ],
      "metadata": {
        "colab": {
          "base_uri": "https://localhost:8080/"
        },
        "outputId": "e9320cc9-acc7-44d1-c6c9-ab4c63763a71",
        "id": "61w3i19QMeGM"
      },
      "execution_count": null,
      "outputs": [
        {
          "output_type": "stream",
          "name": "stdout",
          "text": [
            "beta0 = 1.11456\n",
            "beta1 = 0.68667\n",
            "\n"
          ]
        }
      ]
    },
    {
      "cell_type": "code",
      "source": [
        "%matplotlib inline\n",
        "x3 = df_anscombe.query(\"dataset=='III'\").iloc[:, 1]\n",
        "y3 = df_anscombe.query(\"dataset=='III'\").iloc[:, 2]\n",
        "fig, ax = plt.subplots(nrows=1, ncols=1)\n",
        "plt.scatter(x3,y3)\n",
        "xpointsofline = np.linspace(0, 15, 1000)\n",
        "ypointsofline = beta0 + beta1 * xpointsofline\n",
        "plt.plot(xpointsofline, ypointsofline)\n",
        "plt.grid()\n",
        "plt.axvline(x=0, color='gray')\n",
        "plt.axhline(y=0, color='gray')\n",
        "plt.xlabel('x3')\n",
        "plt.ylabel('y')\n",
        "plt.show()"
      ],
      "metadata": {
        "colab": {
          "base_uri": "https://localhost:8080/",
          "height": 449
        },
        "outputId": "f39cb28e-8490-437e-b88c-11519fb1402a",
        "id": "kaGGlCk8QvpD"
      },
      "execution_count": null,
      "outputs": [
        {
          "output_type": "display_data",
          "data": {
            "text/plain": [
              "<Figure size 640x480 with 1 Axes>"
            ],
            "image/png": "[encoded data removed]"
          },
          "metadata": {}
        }
      ]
    },
    {
      "cell_type": "code",
      "source": [
        "choose = 10\n",
        "x3_predict = beta0 + beta1 * choose\n",
        "print(x3_predict)"
      ],
      "metadata": {
        "colab": {
          "base_uri": "https://localhost:8080/"
        },
        "outputId": "3cd0acf8-c735-4517-f21f-b7a075186d3a",
        "id": "HfAoQ3cvRcK1"
      },
      "execution_count": null,
      "outputs": [
        {
          "output_type": "stream",
          "name": "stdout",
          "text": [
            "7.981216743771872\n"
          ]
        }
      ]
    },
    {
      "cell_type": "markdown",
      "source": [
        "### Dataset IV"
      ],
      "metadata": {
        "id": "qnd8uVrXMgtN"
      }
    },
    {
      "cell_type": "code",
      "source": [
        "x4 = df_anscombe.query(\"dataset=='IV'\").iloc[:, 1]\n",
        "y4 = df_anscombe.query(\"dataset=='IV'\").iloc[:, 2]\n",
        "n = df_anscombe.shape[0]\n",
        "\n",
        "beta0 = 8\n",
        "beta1 = 7\n",
        "\n",
        "alpha = 0.001\n",
        "epochs = 10000\n",
        "\n",
        "for i in range(epochs):\n",
        "  yhat = beta0 + beta1 * x4\n",
        "\n",
        "  d_beta0 = (-1/n) * sum((y4 - yhat))\n",
        "  d_beta1 = (-1/n) * sum(x4 * (y4 - yhat))\n",
        "\n",
        "  beta0 = beta0 - alpha *d_beta0\n",
        "  beta1 = beta1 - alpha *d_beta1\n",
        "\n",
        "print(\"beta0 = {:.5f}\\nbeta1 = {:.5f}\\n\".format(beta0, beta1))\n"
      ],
      "metadata": {
        "colab": {
          "base_uri": "https://localhost:8080/"
        },
        "outputId": "aad49690-4e66-4f9e-c7a0-0a6fccebebf3",
        "id": "bJpfaSCqMmpi"
      },
      "execution_count": null,
      "outputs": [
        {
          "output_type": "stream",
          "name": "stdout",
          "text": [
            "beta0 = 6.28690\n",
            "beta1 = 0.17461\n",
            "\n"
          ]
        }
      ]
    },
    {
      "cell_type": "code",
      "source": [
        "%matplotlib inline\n",
        "x4 = df_anscombe.query(\"dataset=='IV'\").iloc[:, 1]\n",
        "y4 = df_anscombe.query(\"dataset=='IV'\").iloc[:, 2]\n",
        "fig, ax = plt.subplots(nrows=1, ncols=1)\n",
        "plt.scatter(x4,y4)\n",
        "xpointsofline = np.linspace(0, 15, 1000)\n",
        "ypointsofline = beta0 + beta1 * xpointsofline\n",
        "plt.plot(xpointsofline, ypointsofline)\n",
        "plt.grid()\n",
        "plt.axvline(x=0, color='gray')\n",
        "plt.axhline(y=0, color='gray')\n",
        "plt.xlabel('x1')\n",
        "plt.ylabel('y')\n",
        "plt.show()"
      ],
      "metadata": {
        "colab": {
          "base_uri": "https://localhost:8080/",
          "height": 449
        },
        "outputId": "6f342fa6-dcc2-4f02-a123-c3ba08952db1",
        "id": "OE8Tw7Z7Q6ej"
      },
      "execution_count": null,
      "outputs": [
        {
          "output_type": "display_data",
          "data": {
            "text/plain": [
              "<Figure size 640x480 with 1 Axes>"
            ],
            "image/png": "[encoded data removed]"
          },
          "metadata": {}
        }
      ]
    },
    {
      "cell_type": "code",
      "source": [
        "choose = 10\n",
        "x4_predict = beta0 + beta1 * choose\n",
        "print(x4_predict)"
      ],
      "metadata": {
        "colab": {
          "base_uri": "https://localhost:8080/"
        },
        "outputId": "daa747f0-4a25-451a-88d6-1694b5304e89",
        "id": "nS486046Rt0Z"
      },
      "execution_count": null,
      "outputs": [
        {
          "output_type": "stream",
          "name": "stdout",
          "text": [
            "8.033028861719012\n"
          ]
        }
      ]
    }
  ]
}